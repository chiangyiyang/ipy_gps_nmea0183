{
 "cells": [
  {
   "cell_type": "markdown",
   "metadata": {},
   "source": [
    "### 解讀NMEA 0183"
   ]
  },
  {
   "cell_type": "code",
   "execution_count": 2,
   "metadata": {},
   "outputs": [
    {
     "name": "stdout",
     "output_type": "stream",
     "text": [
      "Serial<id=0x1b84ac9e190, open=True>(port='COM3', baudrate=9600, bytesize=8, parity='N', stopbits=1, timeout=None, xonxoff=False, rtscts=False, dsrdtr=False)\n"
     ]
    }
   ],
   "source": [
    "import serial\n",
    "\n",
    "port = serial.Serial(port='COM3', baudrate=9600)\n",
    "print(port)\n"
   ]
  },
  {
   "cell_type": "code",
   "execution_count": null,
   "metadata": {},
   "outputs": [],
   "source": [
    "port.close()"
   ]
  },
  {
   "cell_type": "code",
   "execution_count": null,
   "metadata": {},
   "outputs": [],
   "source": [
    "print(logs)"
   ]
  },
  {
   "cell_type": "code",
   "execution_count": 1,
   "metadata": {},
   "outputs": [],
   "source": [
    "# load GPS logs\n",
    "with open('gps_log2.txt','r') as f:\n",
    "  logs = f.read()"
   ]
  },
  {
   "cell_type": "code",
   "execution_count": null,
   "metadata": {},
   "outputs": [],
   "source": [
    "lines = logs.split()\n",
    "lines[0:5]"
   ]
  },
  {
   "cell_type": "code",
   "execution_count": null,
   "metadata": {},
   "outputs": [],
   "source": [
    "for line in lines:\n",
    "    fields = line.split(',')\n",
    "    # 逐筆檢查GGA\n",
    "    if fields[0] == '$GPGGA':\n",
    "        # 是GGA就讀欄位\n",
    "        if int(fields[6]) > 0:\n",
    "            # 是 GGA 且 Position Fix Indicator > 0 就讀欄位\n",
    "            # lat_s = fields[2]\n",
    "            # lat_dd = int(lat_s[0:2])\n",
    "            # lat_mm = int(lat_s[2:4])\n",
    "            # lat_ss = float(lat_s[4:])*60\n",
    "            # print(f'Latitude: {lat_dd}° {lat_mm}\\' {lat_ss:.2f}\"')\n",
    "            # lon_s = fields[4]\n",
    "            # lon_dd = int(lon_s[0:3])\n",
    "            # lon_mm = int(lon_s[3:5])\n",
    "            # lon_ss = float(lon_s[5:])*60\n",
    "            # print(f\"Longitude: {lon_dd}° {lon_mm}' {lon_ss:.2f}\\\"\")\n",
    "            print(line)\n",
    "            print(fields[14])\n"
   ]
  },
  {
   "cell_type": "code",
   "execution_count": 24,
   "metadata": {},
   "outputs": [
    {
     "data": {
      "text/plain": [
       "0.8340000000000001"
      ]
     },
     "execution_count": 24,
     "metadata": {},
     "output_type": "execute_result"
    }
   ],
   "source": [
    "s = '1.834'\n",
    "f = float(s)\n",
    "a = int(f)\n",
    "b = f-a\n",
    "b\n"
   ]
  },
  {
   "cell_type": "code",
   "execution_count": 61,
   "metadata": {},
   "outputs": [
    {
     "name": "stdout",
     "output_type": "stream",
     "text": [
      "5B\n"
     ]
    }
   ],
   "source": [
    "s='$GPGGA,065325.00,2452.51142,N,12115.97109,E,2,08,0.97,203.6,M,16.7,M,,0000*5B'\n",
    "a = s.index('$')\n",
    "b = s.index('*')\n",
    "res = 0\n",
    "for c in s[a+1:b]:\n",
    "  res = ord(c) ^ res\n",
    "\n",
    "print(f'{res:02X}')"
   ]
  },
  {
   "cell_type": "code",
   "execution_count": 58,
   "metadata": {},
   "outputs": [
    {
     "data": {
      "text/plain": [
       "1"
      ]
     },
     "execution_count": 58,
     "metadata": {},
     "output_type": "execute_result"
    }
   ],
   "source": [
    "ord('b')-ord('a')\n"
   ]
  },
  {
   "cell_type": "code",
   "execution_count": 76,
   "metadata": {},
   "outputs": [
    {
     "data": {
      "text/plain": [
       "{'UTC': '06:53:25.00',\n",
       " 'Latitude': 24.875190333333332,\n",
       " 'N/S': 'N',\n",
       " 'Longitude': 121.26618483333333,\n",
       " 'E/W': 'E',\n",
       " 'Fix': 'DGPS',\n",
       " 'Satellites': 8,\n",
       " 'HDOP': 0.97,\n",
       " 'Altitude': 203.6,\n",
       " 'Alt Unit': 'M',\n",
       " 'Geoid Separation': 16.7,\n",
       " 'GS Unit': 'M',\n",
       " 'Checksum': '0000*5B'}"
      ]
     },
     "execution_count": 76,
     "metadata": {},
     "output_type": "execute_result"
    }
   ],
   "source": [
    "parseGGA('$GPGGA,065325.00,2452.51142,N,12115.97109,E,2,08,0.97,203.6,M,16.7,M,,0000*5B')\n"
   ]
  },
  {
   "cell_type": "code",
   "execution_count": 71,
   "metadata": {},
   "outputs": [],
   "source": [
    "def checkSum(msg):\n",
    "    try:\n",
    "        data = msg[msg.index('$')+1:msg.index('*')]\n",
    "        cs = 0\n",
    "        for c in data:\n",
    "            cs = cs ^ ord(c)\n",
    "        return cs == int(msg[msg.index('*')+1:], 16)\n",
    "    except:\n",
    "        return False\n"
   ]
  },
  {
   "cell_type": "code",
   "execution_count": 75,
   "metadata": {},
   "outputs": [],
   "source": [
    "def parseGGA(data):\n",
    "    msgs = data.split()\n",
    "    ggas = list(filter(lambda m: 'GGA' in m, msgs))\n",
    "    if len(ggas) <= 0:\n",
    "        return None\n",
    "    else:\n",
    "        if not checkSum(ggas[-1]):\n",
    "            return None\n",
    "        values = ggas[-1].split(',')\n",
    "        gga = dict()\n",
    "        gga['UTC'] = f'{values[1][0:2]}:{values[1][2:4]}:{values[1][4:]}'\n",
    "        gga['Latitude'] = (float(values[2][0:2]) + (float(values[2][2:])/60)\n",
    "                           ) * (1 if values[3].upper() == 'N' else -1)\n",
    "        gga['N/S'] = values[3]\n",
    "        gga['Longitude'] = (float(values[4][0:3]) + (float(values[4][3:])/60)\n",
    "                            ) * (1 if values[5].upper() == 'E' else -1)\n",
    "        gga['E/W'] = values[5]\n",
    "        gga['Fix'] = ['invalid', 'valid', 'DGPS', 'PPS', 'RTK',\n",
    "                      'not supported', 'estimated', 'Manual', 'Simulation'][int(values[6])]\n",
    "        gga['Satellites'] = int(values[7])\n",
    "        gga['HDOP'] = float(values[8])\n",
    "        gga['Altitude'] = float(values[9])\n",
    "        gga['Alt Unit'] = values[10]\n",
    "        gga['Geoid Separation'] = float(values[11])\n",
    "        gga['GS Unit'] = values[12]\n",
    "        gga['Checksum'] = values[14]\n",
    "        return gga\n"
   ]
  },
  {
   "cell_type": "code",
   "execution_count": 6,
   "metadata": {},
   "outputs": [
    {
     "name": "stdout",
     "output_type": "stream",
     "text": [
      "{'UTC': '06:42:08.00', 'Latitude': 24.876094333333334, 'N/S': 'N', 'Longitude': 13.933501666666666, 'E/W': 'E', 'Fix': 'valid', 'Satellites': 5, 'HDOP': 1.74, 'Altitude': 221.3, 'Alt Unit': 'M', 'Geoid Separation': 16.7, 'GS Unit': 'M', 'Checksum': '*53'}\n"
     ]
    }
   ],
   "source": [
    "buffer = logs\n",
    "gga = parseGGA(buffer)\n",
    "if gga:\n",
    "  print(gga)"
   ]
  },
  {
   "cell_type": "code",
   "execution_count": null,
   "metadata": {},
   "outputs": [],
   "source": [
    "buffer = ''\n",
    "while True:\n",
    "  data = port.read_until()\n",
    "  buffer += data.decode('ascii')\n",
    "  gga = parseGGA(buffer)\n",
    "  if gga:\n",
    "    print(gga)"
   ]
  }
 ],
 "metadata": {
  "interpreter": {
   "hash": "df93e09743f41e6c6d51aff91c57499b07219ab6901af2358b4688771820927e"
  },
  "kernelspec": {
   "display_name": "Python 3.9.7 64-bit ('env': venv)",
   "language": "python",
   "name": "python3"
  },
  "language_info": {
   "codemirror_mode": {
    "name": "ipython",
    "version": 3
   },
   "file_extension": ".py",
   "mimetype": "text/x-python",
   "name": "python",
   "nbconvert_exporter": "python",
   "pygments_lexer": "ipython3",
   "version": "3.10.1"
  },
  "orig_nbformat": 4
 },
 "nbformat": 4,
 "nbformat_minor": 2
}
