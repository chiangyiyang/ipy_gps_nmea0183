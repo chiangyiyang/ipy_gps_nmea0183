{
 "cells": [
  {
   "cell_type": "markdown",
   "metadata": {},
   "source": [
    "## 畫直方圖"
   ]
  },
  {
   "cell_type": "code",
   "execution_count": 11,
   "metadata": {},
   "outputs": [
    {
     "data": {
      "image/png": "[encoded data removed]",
      "text/plain": [
       "<Figure size 432x288 with 1 Axes>"
      ]
     },
     "metadata": {
      "needs_background": "light"
     },
     "output_type": "display_data"
    }
   ],
   "source": [
    "import matplotlib.pyplot as plt\n",
    "\n",
    "\n",
    "labels = ['S03', 'S35', 'S3', 'S4', 'S5']\n",
    "gps_dop = [20, 86, 30, 35, 27]\n",
    "width = 0.5       # the width of the bars: can also be len(x) sequence\n",
    "\n",
    "fig, ax = plt.subplots()\n",
    "\n",
    "ax.bar(labels, gps_dop, width, label='DOP')\n",
    "\n",
    "ax.set_ylabel('DOP')\n",
    "ax.set_title('My Bar Chart')\n",
    "ax.legend()\n",
    "\n",
    "plt.show()"
   ]
  },
  {
   "cell_type": "markdown",
   "metadata": {},
   "source": [
    "## 讀取GPS資料"
   ]
  },
  {
   "cell_type": "code",
   "execution_count": 54,
   "metadata": {},
   "outputs": [],
   "source": [
    "import matplotlib.pyplot as plt\n",
    "\n",
    "def update_bar_chart(labels, values):\n",
    "  fig, ax = plt.subplots()\n",
    "  ax.bar(labels, values)\n",
    "  plt.show()"
   ]
  },
  {
   "cell_type": "code",
   "execution_count": 17,
   "metadata": {},
   "outputs": [],
   "source": [
    "def checkSum(msg):\n",
    "    try:\n",
    "        data = msg[msg.index('$')+1:msg.index('*')]\n",
    "        cs = 0\n",
    "        for c in data:\n",
    "            cs = cs ^ ord(c)\n",
    "        return cs == int(msg[msg.index('*')+1:], 16)\n",
    "    except:\n",
    "        return False"
   ]
  },
  {
   "cell_type": "code",
   "execution_count": 70,
   "metadata": {},
   "outputs": [
    {
     "data": {
      "image/png": "[encoded data removed]",
      "text/plain": [
       "<Figure size 432x288 with 1 Axes>"
      ]
     },
     "metadata": {
      "needs_background": "light"
     },
     "output_type": "display_data"
    }
   ],
   "source": [
    "import numpy as np\n",
    "from time import sleep\n",
    "import matplotlib.pyplot as plt\n",
    "from IPython.display import clear_output\n",
    "\n",
    "logs = None\n",
    "with open('gps_log.txt', 'r') as f:\n",
    "    logs = f.readlines()\n",
    "\n",
    "gsvs = filter(lambda msg: 'GPGSV' in msg, logs)\n",
    "sats = np.empty(0)\n",
    "snrs = np.empty(0)\n",
    "for gsv in gsvs:\n",
    "    if checkSum(gsv):\n",
    "        gsv = gsv[:gsv.index('*')]  # remove check sum\n",
    "        fields = gsv.split(',')\n",
    "        # print(fields)\n",
    "        m_n = int(fields[1])\n",
    "        m_inx = int(fields[2])\n",
    "        sat_n = int(fields[3])\n",
    "        infos = np.reshape(list(map(lambda v: int(v) if v != '' else 0, fields[4:])), (-1, 4))\n",
    "        sats = np.append(sats, infos[:, 0])\n",
    "        snrs = np.append(snrs, infos[:, 3])\n",
    "        # if len(infos)>3:\n",
    "        #     print(fields[4:], infos)\n",
    "        #     print(sats, snrs)\n",
    "        if m_inx == m_n:\n",
    "            update_bar_chart(sats, snrs)\n",
    "            sats = np.empty(0)\n",
    "            snrs = np.empty(0)\n",
    "            sleep(0.1)\n",
    "            clear_output(wait=True)\n"
   ]
  }
 ],
 "metadata": {
  "interpreter": {
   "hash": "f13c8683e146b907a042129052b45d55a8901ef10fb95163cce134b058e925fd"
  },
  "kernelspec": {
   "display_name": "Python 3.10.1 ('env': venv)",
   "language": "python",
   "name": "python3"
  },
  "language_info": {
   "codemirror_mode": {
    "name": "ipython",
    "version": 3
   },
   "file_extension": ".py",
   "mimetype": "text/x-python",
   "name": "python",
   "nbconvert_exporter": "python",
   "pygments_lexer": "ipython3",
   "version": "3.10.1"
  },
  "orig_nbformat": 4
 },
 "nbformat": 4,
 "nbformat_minor": 2
}
